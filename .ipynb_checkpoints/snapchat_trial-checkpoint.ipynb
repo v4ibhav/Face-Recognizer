{
 "cells": [
  {
   "cell_type": "code",
   "execution_count": 1,
   "metadata": {
    "ExecuteTime": {
     "end_time": "2019-08-23T14:26:56.268390Z",
     "start_time": "2019-08-23T14:26:56.149947Z"
    }
   },
   "outputs": [],
   "source": [
    "import numpy as np\n",
    "import os \n",
    "import cv2\n"
   ]
  },
  {
   "cell_type": "code",
   "execution_count": 2,
   "metadata": {
    "ExecuteTime": {
     "end_time": "2019-08-23T14:26:56.509609Z",
     "start_time": "2019-08-23T14:26:56.506612Z"
    }
   },
   "outputs": [],
   "source": [
    "###### KNN #######"
   ]
  },
  {
   "cell_type": "code",
   "execution_count": 3,
   "metadata": {
    "ExecuteTime": {
     "end_time": "2019-08-23T14:26:56.906796Z",
     "start_time": "2019-08-23T14:26:56.901817Z"
    }
   },
   "outputs": [],
   "source": [
    "label = []\n",
    "class_id = 0\n",
    "names = {}\n",
    "face_data = []"
   ]
  },
  {
   "cell_type": "code",
   "execution_count": 4,
   "metadata": {
    "ExecuteTime": {
     "end_time": "2019-08-23T14:26:57.608359Z",
     "start_time": "2019-08-23T14:26:57.597386Z"
    }
   },
   "outputs": [],
   "source": [
    "#load data \n",
    "data_path = \"../../sampling/face_data/\"\n",
    "for fx in os.listdir(data_path):\n",
    "    if fx.endswith('.npy'):\n",
    "        names[class_id] = fx[:-4]\n",
    "        data_item =np.load(data_path+fx)\n",
    "        face_data.append(data_item)\n",
    "        \n",
    "        #label\n",
    "        target = class_id*np.ones((data_item.shape[0],))\n",
    "#         print(target.shape)\n",
    "        label.append(target)\n",
    "        class_id+=1\n",
    "        \n",
    " #concatenate  \n",
    "face_label = np.concatenate(label,axis=0)\n",
    "face_X = np.concatenate(face_data,axis=0) \n",
    "        \n",
    "#reshape label\n",
    "face_Y = face_label.reshape((-1,1))\n",
    "        \n",
    "#concatenate X and Y together \n",
    "training_set = np.concatenate((face_X,face_Y),axis=1)\n",
    "        \n",
    "        \n",
    "        "
   ]
  },
  {
   "cell_type": "markdown",
   "metadata": {},
   "source": [
    "# read from videocapture"
   ]
  },
  {
   "cell_type": "code",
   "execution_count": 13,
   "metadata": {
    "ExecuteTime": {
     "end_time": "2019-08-23T14:24:30.017652Z",
     "start_time": "2019-08-23T14:24:29.992687Z"
    }
   },
   "outputs": [],
   "source": [
    "face_cascade = cv2.CascadeClassifier('haarcascade_frontalface_alt.xml')"
   ]
  },
  {
   "cell_type": "code",
   "execution_count": 16,
   "metadata": {
    "ExecuteTime": {
     "end_time": "2019-08-23T14:24:57.874982Z",
     "start_time": "2019-08-23T14:24:43.377937Z"
    }
   },
   "outputs": [],
   "source": [
    "cap = cv2.VideoCapture(0)\n",
    "while True:\n",
    "    ret,frame = cap.read()\n",
    "    gray_frame = cv2.cvtColor(frame,cv2.COLOR_BGR2GRAY)\n",
    "\n",
    "    if ret == False:\n",
    "        continue\n",
    "    faces = face_cascade.detectMultiScale(gray_frame,1.3,5)\n",
    "    \n",
    "    #rectangular frame\n",
    "    for face in faces:\n",
    "        x,y,w,h = face\n",
    "        #cv2.rectangle(face,(x,y),(x+w,y+h),(255,255,0),1) not here but after prediction\n",
    "        offset =10\n",
    "        face_sec = gray_frame[y-offset:y+h+offset,x-offset:x+w+offset]\n",
    "        face_sec = cv2.resize(face_sec,(100,100))\n",
    "        \n",
    "        out = knn(training_set[:,:-1],training_set[:,-1],face_sec.flatten())\n",
    "        \n",
    "        #displeay text on screen\n",
    "        pred_name = names[int(out)]\n",
    "        cv2.putText(gray_frame,pred_name,(x,y-10),cv2.FONT_HERSHEY_SIMPLEX,1,(0,255,255),2,cv2.LINE_AA)\n",
    "        \n",
    "        #display rectangle\n",
    "        cv2.rectangle(gray_frame,(x,y),(x+w,y+h),(255,255,0),1)\n",
    "        \n",
    "        \n",
    "    key_pressed = cv2.waitKey(1) & 0xFF\n",
    "    if key_pressed == ord('q'):\n",
    "        break\n",
    "    cv2.imshow(\"face\",gray_frame)"
   ]
  },
  {
   "cell_type": "markdown",
   "metadata": {},
   "source": [
    "# KNN #\n"
   ]
  },
  {
   "cell_type": "code",
   "execution_count": 15,
   "metadata": {
    "ExecuteTime": {
     "end_time": "2019-08-23T14:24:40.645155Z",
     "start_time": "2019-08-23T14:24:40.638203Z"
    }
   },
   "outputs": [],
   "source": [
    "def distance(p1,p2):\n",
    "    return np.sum((p2 - p1)**2)**.5\n",
    "\n",
    "def knn(X,Y,test,k=5):\n",
    "    m = X.shape[0]\n",
    "    \n",
    "    d = []\n",
    "    for i  in range(m):\n",
    "        dist = distance(test,X[i])\n",
    "        d.append((dist,Y[i]))\n",
    "    \n",
    "    d = np.array(sorted(d))[:,1]\n",
    "    d = d[:k]\n",
    "    t =  np.unique(d,return_counts=True)\n",
    "    idx = np.argmax(t[1])\n",
    "    pred = int(t[0][idx])\n",
    "        \n",
    "    return pred"
   ]
  },
  {
   "cell_type": "code",
   "execution_count": null,
   "metadata": {},
   "outputs": [],
   "source": []
  }
 ],
 "metadata": {
  "kernelspec": {
   "display_name": "Python 3",
   "language": "python",
   "name": "python3"
  },
  "language_info": {
   "codemirror_mode": {
    "name": "ipython",
    "version": 3
   },
   "file_extension": ".py",
   "mimetype": "text/x-python",
   "name": "python",
   "nbconvert_exporter": "python",
   "pygments_lexer": "ipython3",
   "version": "3.7.4"
  },
  "varInspector": {
   "cols": {
    "lenName": 16,
    "lenType": 16,
    "lenVar": 40
   },
   "kernels_config": {
    "python": {
     "delete_cmd_postfix": "",
     "delete_cmd_prefix": "del ",
     "library": "var_list.py",
     "varRefreshCmd": "print(var_dic_list())"
    },
    "r": {
     "delete_cmd_postfix": ") ",
     "delete_cmd_prefix": "rm(",
     "library": "var_list.r",
     "varRefreshCmd": "cat(var_dic_list()) "
    }
   },
   "position": {
    "height": "35.7244px",
    "left": "1318.09px",
    "right": "20px",
    "top": "94.9971px",
    "width": "225.156px"
   },
   "types_to_exclude": [
    "module",
    "function",
    "builtin_function_or_method",
    "instance",
    "_Feature"
   ],
   "window_display": true
  }
 },
 "nbformat": 4,
 "nbformat_minor": 2
}
